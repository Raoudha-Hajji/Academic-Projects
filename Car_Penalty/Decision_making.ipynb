{
  "nbformat": 4,
  "nbformat_minor": 0,
  "metadata": {
    "colab": {
      "provenance": []
    },
    "kernelspec": {
      "name": "python3",
      "display_name": "Python 3"
    },
    "language_info": {
      "name": "python"
    }
  },
  "cells": [
    {
      "cell_type": "code",
      "source": [
        "import pandas as pd\n",
        "\n",
        "# Step 1: Read the car rental data CSV\n",
        "car_rental_df = pd.read_excel('Cars_sales_data.xlsx')\n",
        "\n",
        "def custom_date_parser(date_string):\n",
        "    # Assuming the original date format is \"DD/MM/YYYY\"\n",
        "    return pd.to_datetime(date_string, format='%d/%m/%Y')\n",
        "\n",
        "# Function to process the newest penalty form entry\n",
        "def process_newest_penalty_form():\n",
        "    # Read the penalty form data CSV to get the newest entry\n",
        "    penalty_form_df = pd.read_excel('penalty_data.xlsx', parse_dates=['Date'], date_parser=custom_date_parser)\n",
        "    newest_entry = penalty_form_df.tail(1)  # Get the last row, which is the newest entry\n",
        "    plate_number = newest_entry['Plate Number'].iloc[0]\n",
        "    penalty_date = newest_entry['Date'].iloc[0].strftime('%d/%m/%Y')\n",
        "    penalty_time = newest_entry['Time Penalty'].iloc[0]\n",
        "\n",
        "    # Compare with car rental data\n",
        "    matched_data = car_rental_df[\n",
        "        (car_rental_df['Plate Number'] == plate_number) &\n",
        "        (car_rental_df['Date'] == penalty_date)\n",
        "    ]\n",
        "\n",
        "    if not matched_data.empty:\n",
        "        # Check if both Pick up time and Drop off time are not null\n",
        "        if 'Pick up time' in car_rental_df.columns and 'Drop off time' in car_rental_df.columns:\n",
        "            matched_data = matched_data[\n",
        "                ((matched_data['Pick up time'].notnull()) & (matched_data['Drop off time'].notnull()) &\n",
        "                (matched_data['Pick up time'] <= penalty_time) & (penalty_time <= matched_data['Drop off time']))\n",
        "                |\n",
        "                ((matched_data['Pick up time'].notnull()) & (matched_data['Drop off time'].isnull()) &\n",
        "                (matched_data['Pick up time'] <= penalty_time))\n",
        "                |\n",
        "                ((matched_data['Pick up time'].isnull()) & (matched_data['Drop off time'].notnull()) &\n",
        "                (penalty_time <= matched_data['Drop off time']))\n",
        "                |\n",
        "                ((matched_data['Pick up time'].isnull()) & (matched_data['Drop off time'].isnull()))\n",
        "            ]\n",
        "\n",
        "\n",
        "        if not matched_data.empty:\n",
        "            # Perform inner join\n",
        "            joined_data = pd.merge(matched_data, newest_entry, on='Plate Number')\n",
        "\n",
        "            joined_data.rename(columns={'Date_x' : 'Date' , 'Date_y' : 'Date Penalty'}, inplace=True)\n",
        "            # Append joined data to a third CSV\n",
        "            with open('joined_data.csv', 'a') as f:\n",
        "                joined_data.to_csv(f, mode='a', header=f.tell()==0, index=False)\n",
        "            print(\"New penalty form processed and appended successfully.\")\n",
        "        else:\n",
        "            print(\"No matching rental data found for the penalty form.\")\n",
        "    else:\n",
        "        print(\"No matching rental data found for the penalty form.\")\n",
        "\n",
        "# Process the newest penalty form\n",
        "process_newest_penalty_form()"
      ],
      "metadata": {
        "colab": {
          "base_uri": "https://localhost:8080/"
        },
        "id": "Sn84QcnUoT6c",
        "outputId": "29a91487-cba4-4cba-d79d-bc770b09afe1"
      },
      "execution_count": null,
      "outputs": [
        {
          "output_type": "stream",
          "name": "stdout",
          "text": [
            "New penalty form processed and appended successfully.\n"
          ]
        },
        {
          "output_type": "stream",
          "name": "stderr",
          "text": [
            "<ipython-input-12-dadfef8ee69a>:13: FutureWarning: The argument 'date_parser' is deprecated and will be removed in a future version. Please use 'date_format' instead, or read your data in as 'object' dtype and then call 'to_datetime'.\n",
            "  penalty_form_df = pd.read_excel('penalty_data.xlsx', parse_dates=['Date'], date_parser=custom_date_parser)\n"
          ]
        }
      ]
    }
  ]
}