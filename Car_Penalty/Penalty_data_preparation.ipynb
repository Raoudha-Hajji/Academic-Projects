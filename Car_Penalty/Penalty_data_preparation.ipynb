{
  "nbformat": 4,
  "nbformat_minor": 0,
  "metadata": {
    "colab": {
      "provenance": []
    },
    "kernelspec": {
      "name": "python3",
      "display_name": "Python 3"
    },
    "language_info": {
      "name": "python"
    }
  },
  "cells": [
    {
      "cell_type": "code",
      "source": [
        "import sys                                          # Read system parameters.\n",
        "import os                                           # Interact with the operating system.\n",
        "import numpy as np                                  # Work with multi-dimensional arrays and matrices.\n",
        "import pandas as pd                                 # Manipulate and analyze data.\n",
        "import scipy as sp                                   # Perform scientific computing and advanced mathematics.\n",
        "import sklearn                                      # Perform data mining and analysis.\n",
        "import re"
      ],
      "metadata": {
        "id": "hyUF-uDH2c57"
      },
      "execution_count": null,
      "outputs": []
    },
    {
      "cell_type": "code",
      "execution_count": null,
      "metadata": {
        "id": "VEUoWrT_1XmQ"
      },
      "outputs": [],
      "source": [
        "df = pd.read_excel(\"penalty_data.xlsx\")"
      ]
    },
    {
      "cell_type": "code",
      "source": [
        "print(df)"
      ],
      "metadata": {
        "colab": {
          "base_uri": "https://localhost:8080/"
        },
        "id": "7QLy2GVkHLf-",
        "outputId": "7b10f594-e689-4e9e-d5f3-73ebb4460610"
      },
      "execution_count": null,
      "outputs": [
        {
          "output_type": "stream",
          "name": "stdout",
          "text": [
            "   IMAGE_NAME              ID_PENALTY REGISTRATION                  DATE_TIME  \\\n",
            "0       1.jpg              3723572555     GE212796      le 27/10/2023 à 20h51   \n",
            "1      10.jpg         123146806 198 8    GE 278844        1 mars 2023 à 21:12   \n",
            "2      11.jpg         240032607 066 7    GE 305362   Sa-13.01.2024  15:46 Uhr   \n",
            "3      12.jpg              3720560535     GE212796     le 26/10/2023 à 20h01    \n",
            "4      13.jpg                 3107808     GE206608   Montag 15.01.2024 12:41    \n",
            "..        ...                     ...          ...                        ...   \n",
            "82     84.jpg              3729239695     GE303735         25/02/2024 à 10h45   \n",
            "83     85.jpg  VStV/923301724020/2023    GE-315431    04.03.2023 Um 19:27 Uhr   \n",
            "84     86.jpg         002300801 007 2    GE 278844        4.12.2023 - 14:14 h   \n",
            "85     87.jpg               231464006    GE 305998  10.07.2023 alle ore 12:09   \n",
            "86      9.jpg              3736935725     GE278844      le 18/12/2023 à 20h39   \n",
            "\n",
            "                                             LOCATION  \\\n",
            "0   CHAMONIX MONT BLANC vers MACON ETREMBIERES - 7...   \n",
            "1         rte. de Lausanne Vengeron, direction Genève   \n",
            "2              Zürich 1, Walchestrasse / Neumühlequai   \n",
            "3   ANNECY vers GENEVE . ST JULIEN EN GENEVOIS - 7...   \n",
            "4                 Davos Dorf Bahnhofstrasse Höhe Coop   \n",
            "..                                                ...   \n",
            "82                      RD1508 PK/PR : 064+800 FRANCE   \n",
            "83  Wien, 11., A4 Simmering KM 4,464, Richtung sta...   \n",
            "84                          Montreux - Rue du Théâtre   \n",
            "85  Balerna, A.2, carreggiata B (N/S) km 2.350, di...   \n",
            "86  CHAMONIX MONT BLANC vers MACON ETREMBIERES - 7...   \n",
            "\n",
            "                                          DESCRIPTION      AMOUNT  \n",
            "0   EXCES DE VITESSE INFERIEUR A 20 KM/H PAR CONDU...        45 €  \n",
            "1   Dépasser, hors des localités ou sur une semi-a...  240.00 CHF  \n",
            "2                    Nichtbeachten eines Lichtsignals  Fr. 250.00  \n",
            "3   EXCES DE VITESSE INFERIEUR A 20 KM/H PAR CONDU...      135 €   \n",
            "4   Stationner sur le trottoir s.n.r. pas passage ...  CHF 120.00  \n",
            "..                                                ...         ...  \n",
            "82  EXCES DE VITESSE INFERIEUR A 5 KM/H PAR CONDUC...        45 €  \n",
            "83                        Durchfahren eines Rotlichts           €  \n",
            "84  Vitesse excédentaire de 35 km/h sur autoroute ...   40.00 CHF  \n",
            "85  Superamento della velocità autorizzata: 180.00...  180.00 CHF  \n",
            "86  EXCES DE VITESSE INFERIEUR A 20 KM/H PAR CONDU...        61 €  \n",
            "\n",
            "[87 rows x 7 columns]\n"
          ]
        }
      ]
    },
    {
      "cell_type": "markdown",
      "source": [
        "##Date Column preparation"
      ],
      "metadata": {
        "id": "NMucaLjHJD3o"
      }
    },
    {
      "cell_type": "markdown",
      "source": [
        "Split date and time into two separate columns"
      ],
      "metadata": {
        "id": "uAIne5RyJJkb"
      }
    },
    {
      "cell_type": "code",
      "source": [
        "# Define regex patterns to match different date and time formats\n",
        "date_patterns = [\n",
        "    r\"\\b(\\d{1,2}[/]\\d{1,2}[/]\\d{4})\\b\",  # Matches date in format dd/mm/yyyy or d/m/yyyy\n",
        "    r\"\\b(\\d{1,2}\\s(?:janvier|février|mars|avril|mai|juin|juillet|août|septembre|octobre|novembre|décembre)\\s\\d{4})\\b\",  # Matches date with month names\n",
        "    r\"\\b(\\d{1,2}\\s(?:gennaio|febbraio|marzo|zprile|maggio|giugno|luglio|agosto|settembre|ottobre|novembre|dicembre)\\s\\d{4})\\b\",\n",
        "    r\"\\b(\\d{1,2}\\s(?:januar|februar|märz|april|mai|juni|juli|august|september|oktober|november|dezember)\\s\\d{4})\\b\",\n",
        "    r\"\\b(\\d{1,2}\\s(?:january|february|march|april|may|june|july|august|september|october|november|december)\\s\\d{4})\\b\",\n",
        "    r\"\\b(\\d{1,2}[. ]\\s(?:janvier|février|mars|avril|mai|juin|juillet|août|septembre|octobre|novembre|décembre)\\s\\d{4})\\b\",\n",
        "    r\"\\b(\\d{1,2}[. ]\\s(?:january|february|march|april|may|june|july|august|september|october|november|december)\\s\\d{4})\\b\",\n",
        "    r\"\\b(\\d{1,2}[.]\\d{1,2}[.]\\d{4})\\b\",  # Matches date in format dd.mm.yyyy or d.m.yyyy\n",
        "    r\"\\b(\\d{1,2}[-]\\d{1,2}[-]\\d{4})\\b\",  # Matches date in format dd-mm-yyyy or d-m-yyyy\n",
        "    r\"\\b(\\d{1,2}\\s(?:jan\\.|fév\\.|mar\\.|avr\\.|mai|juin|juil\\.|août|sept\\.|oct\\.|nov\\.|déc\\.)\\s\\d{4})\\b\"  # Matches date with abbreviated month names\n",
        "]\n",
        "\n",
        "time_patterns = [\n",
        "    r\"\\b(\\d{1,2}[:]\\d{2})\\b\",  # Matches time in format hh:mm\n",
        "    r\"\\b(\\d{1,2}[h]\\d{2})\\b\",  # Matches time in format hhhmm\n",
        "    r\"\\b(\\d{1,2}[:]\\d{2}\\s(?:Uhr)?)\\b\",  # Matches time with optional \"Uhr\" suffix\n",
        "]"
      ],
      "metadata": {
        "id": "7mK3mdVcHWvO"
      },
      "execution_count": null,
      "outputs": []
    },
    {
      "cell_type": "code",
      "source": [
        "# Extract date and time the DATE_TIME column and create new columns for date and time\n",
        "def extract_date_time(row):\n",
        "    date = None\n",
        "    time = None\n",
        "    for pattern in date_patterns:\n",
        "        match = re.search(pattern, row, flags=re.IGNORECASE)\n",
        "        if match:\n",
        "            date = match.group(1)\n",
        "            break\n",
        "    for pattern in time_patterns:\n",
        "        match = re.search(pattern, row, flags=re.IGNORECASE)\n",
        "        if match:\n",
        "            time = match.group(1)\n",
        "            break\n",
        "    return date, time\n",
        "\n",
        "# Apply the function to each row\n",
        "df['Date Penalty'] = df['DATE_TIME'].apply(lambda x: extract_date_time(x)[0])\n",
        "df['Time Penalty'] = df['DATE_TIME'].apply(lambda x: extract_date_time(x)[1])\n",
        "\n",
        "df.drop(columns=['DATE_TIME'], inplace=True)"
      ],
      "metadata": {
        "id": "gTUgs0wI2Fw9"
      },
      "execution_count": null,
      "outputs": []
    },
    {
      "cell_type": "code",
      "source": [
        "# Drop rows where the 'IMAGE_NAME' column matches any of the specified values\n",
        "df = df[~df['IMAGE_NAME'].isin(['40.jpg', '80.jpg', '6.jpg'])]"
      ],
      "metadata": {
        "id": "gwV24SpusSgd"
      },
      "execution_count": null,
      "outputs": []
    },
    {
      "cell_type": "code",
      "source": [
        "print(df)"
      ],
      "metadata": {
        "colab": {
          "base_uri": "https://localhost:8080/"
        },
        "id": "2dq6MnATzhKq",
        "outputId": "513b0d83-d164-4884-fe78-6b512c7e1f90"
      },
      "execution_count": null,
      "outputs": [
        {
          "output_type": "stream",
          "name": "stdout",
          "text": [
            "   IMAGE_NAME              ID_PENALTY REGISTRATION  \\\n",
            "0       1.jpg              3723572555     GE212796   \n",
            "1      10.jpg         123146806 198 8    GE 278844   \n",
            "2      11.jpg         240032607 066 7    GE 305362   \n",
            "3      12.jpg              3720560535     GE212796   \n",
            "4      13.jpg                 3107808     GE206608   \n",
            "..        ...                     ...          ...   \n",
            "82     84.jpg              3729239695     GE303735   \n",
            "83     85.jpg  VStV/923301724020/2023    GE-315431   \n",
            "84     86.jpg         002300801 007 2    GE 278844   \n",
            "85     87.jpg               231464006    GE 305998   \n",
            "86      9.jpg              3736935725     GE278844   \n",
            "\n",
            "                                             LOCATION  \\\n",
            "0   CHAMONIX MONT BLANC vers MACON ETREMBIERES - 7...   \n",
            "1         rte. de Lausanne Vengeron, direction Genève   \n",
            "2              Zürich 1, Walchestrasse / Neumühlequai   \n",
            "3   ANNECY vers GENEVE . ST JULIEN EN GENEVOIS - 7...   \n",
            "4                 Davos Dorf Bahnhofstrasse Höhe Coop   \n",
            "..                                                ...   \n",
            "82                      RD1508 PK/PR : 064+800 FRANCE   \n",
            "83  Wien, 11., A4 Simmering KM 4,464, Richtung sta...   \n",
            "84                          Montreux - Rue du Théâtre   \n",
            "85  Balerna, A.2, carreggiata B (N/S) km 2.350, di...   \n",
            "86  CHAMONIX MONT BLANC vers MACON ETREMBIERES - 7...   \n",
            "\n",
            "                                          DESCRIPTION      AMOUNT  \\\n",
            "0   EXCES DE VITESSE INFERIEUR A 20 KM/H PAR CONDU...        45 €   \n",
            "1   Dépasser, hors des localités ou sur une semi-a...  240.00 CHF   \n",
            "2                    Nichtbeachten eines Lichtsignals  Fr. 250.00   \n",
            "3   EXCES DE VITESSE INFERIEUR A 20 KM/H PAR CONDU...      135 €    \n",
            "4   Stationner sur le trottoir s.n.r. pas passage ...  CHF 120.00   \n",
            "..                                                ...         ...   \n",
            "82  EXCES DE VITESSE INFERIEUR A 5 KM/H PAR CONDUC...        45 €   \n",
            "83                        Durchfahren eines Rotlichts           €   \n",
            "84  Vitesse excédentaire de 35 km/h sur autoroute ...   40.00 CHF   \n",
            "85  Superamento della velocità autorizzata: 180.00...  180.00 CHF   \n",
            "86  EXCES DE VITESSE INFERIEUR A 20 KM/H PAR CONDU...        61 €   \n",
            "\n",
            "           Date Time Penalty  \n",
            "0    27/10/2023        20h51  \n",
            "1   1 mars 2023        21:12  \n",
            "2    13.01.2024        15:46  \n",
            "3    26/10/2023        20h01  \n",
            "4    15.01.2024        12:41  \n",
            "..          ...          ...  \n",
            "82   25/02/2024        10h45  \n",
            "83   04.03.2023        19:27  \n",
            "84    4.12.2023        14:14  \n",
            "85   10.07.2023        12:09  \n",
            "86   18/12/2023        20h39  \n",
            "\n",
            "[84 rows x 8 columns]\n"
          ]
        }
      ]
    },
    {
      "cell_type": "markdown",
      "source": [
        "Unify the date format with the car_sales_data"
      ],
      "metadata": {
        "id": "Tp6j_NDCJQGt"
      }
    },
    {
      "cell_type": "code",
      "source": [
        "#desired_format = r\"\\b(\\d{1,2}[/]\\d{1,2}[/]\\d{4})\\b\"\n",
        "\n",
        "# Convert date to the desired format\n",
        "def convert_to_desired_format(date_str):\n",
        "    for pattern in date_patterns:\n",
        "        match = re.search(pattern, date_str, flags=re.IGNORECASE)\n",
        "        if match:\n",
        "            # Extract day, month, and year components\n",
        "            components = re.findall(r'\\d+|\\b(?:janvier|février|mars|avril|mai|juin|juillet|août|septembre|octobre|novembre|décembre|gennaio|febbraio|marzo|aprile|maggio|giugno|luglio|agosto|settembre|ottobre|novembre|dicembre|januar|februar|märz|april|mai|juni|juli|august|september|oktober|november|dezember|january|february|march|april|may|june|july|august|september|october|november|december)\\b|\\d{4,}', match.group(), flags=re.IGNORECASE)\n",
        "            day = components[0]\n",
        "            month = components[1]\n",
        "            year = components[2]\n",
        "\n",
        "            day = day.zfill(2)\n",
        "\n",
        "            new_date_str = f\"{day}/{month}/{year}\"\n",
        "            return new_date_str\n",
        "    return date_str\n",
        "\n",
        "df['Date Penalty'] = df['Date Penalty'].apply(convert_to_desired_format)\n"
      ],
      "metadata": {
        "id": "KwH9JrSQTAyb"
      },
      "execution_count": null,
      "outputs": []
    },
    {
      "cell_type": "code",
      "source": [
        "#Convert month from a word to digits\n",
        "def convert_date(date_str):\n",
        "    month_mapping = {\n",
        "    'janvier': '01', 'février': '02', 'mars': '03', 'avril': '04', 'mai': '05', 'juin': '06',\n",
        "    'juillet': '07', 'août': '08', 'septembre': '09', 'octobre': '10', 'novembre': '11', 'décembre': '12',\n",
        "    'january': '01', 'february': '02', 'march': '03', 'april': '04', 'may': '05', 'june': '06',\n",
        "    'july': '07', 'august': '08', 'september': '09', 'october': '10', 'november': '11', 'december': '12',\n",
        "    'gennaio': '01', 'febbraio': '02', 'marzo': '03', 'aprile': '04', 'maggio': '05', 'giugno': '06',\n",
        "    'luglio': '07', 'agosto': '08', 'settembre': '09', 'ottobre': '10', 'novembre': '11', 'dicembre': '12',\n",
        "    'januar': '01', 'februar': '02', 'märz': '03', 'april': '04', 'mai': '05', 'juni': '06',\n",
        "    'juli': '07', 'august': '08', 'september': '09', 'oktober': '10', 'november': '11', 'dezember': '12'\n",
        "}\n",
        "\n",
        "    # Split the date string into day, month, and year\n",
        "    parts = date_str.split('/')\n",
        "\n",
        "    if parts[1].isdigit():\n",
        "        month_numeric = parts[1]\n",
        "    else:\n",
        "        month_numeric = month_mapping[parts[1].lower()]\n",
        "\n",
        "    new_date_str = f\"{parts[0]}/{month_numeric}/{parts[2]}\"\n",
        "\n",
        "    return new_date_str\n",
        "\n",
        "df['Date Penalty'] = df['Date Penalty'].apply(convert_date)"
      ],
      "metadata": {
        "id": "tx9FY6nNcIS0"
      },
      "execution_count": null,
      "outputs": []
    },
    {
      "cell_type": "markdown",
      "source": [
        "##Time Column preparation"
      ],
      "metadata": {
        "id": "lkqx_vIP1Sao"
      }
    },
    {
      "cell_type": "code",
      "source": [
        "from datetime import datetime\n",
        "\n",
        "def convert_to_consistent_time_format(time_str):\n",
        "    try:\n",
        "        # Parse the time string using different formats\n",
        "        time_formats = [\"%H:%M\", \"%Hh%M\", \"%H:%M:%S\"]\n",
        "        time_obj = None\n",
        "        for fmt in time_formats:\n",
        "            try:\n",
        "                time_obj = datetime.strptime(time_str, fmt)\n",
        "                break\n",
        "            except ValueError:\n",
        "                continue\n",
        "\n",
        "        # If time_obj is None, it means the time_str couldn't be parsed\n",
        "        if time_obj is None:\n",
        "            return None\n",
        "\n",
        "        # Convert the time to the standard format\n",
        "        standard_time = datetime.strptime(\"17:35\", \"%H:%M\")\n",
        "        converted_time = standard_time.replace(hour=time_obj.hour, minute=time_obj.minute)\n",
        "\n",
        "        return converted_time.strftime(\"%H:%M\")\n",
        "\n",
        "    except Exception as e:\n",
        "        print(\"Error:\", e)\n",
        "        return None\n",
        "\n",
        "\n",
        "df['Time Penalty'] = df['Time Penalty'].apply(convert_to_consistent_time_format)"
      ],
      "metadata": {
        "id": "ndl46GiP1VSU"
      },
      "execution_count": null,
      "outputs": []
    },
    {
      "cell_type": "markdown",
      "source": [
        "##Plate Number Column preparation"
      ],
      "metadata": {
        "id": "Ufla8c17wdya"
      }
    },
    {
      "cell_type": "markdown",
      "source": [
        "Change column name"
      ],
      "metadata": {
        "id": "qAfp6bCg1EJS"
      }
    },
    {
      "cell_type": "code",
      "source": [
        "pd.set_option('display.max_columns', None)\n",
        "df.rename(columns = {'REGISTRATION': 'Plate Number'},inplace=True)"
      ],
      "metadata": {
        "id": "e42ZoDTFwiHr"
      },
      "execution_count": null,
      "outputs": []
    },
    {
      "cell_type": "markdown",
      "source": [
        "Unify the license plate format"
      ],
      "metadata": {
        "id": "RMbseqkX1G5I"
      }
    },
    {
      "cell_type": "code",
      "source": [
        "def extract_license_plate(text):\n",
        "    # Define a regular expression pattern to match license plate numbers\n",
        "    pattern = r'\\b([A-Za-z]+)\\W*(\\d+)\\b'\n",
        "\n",
        "    # Find all matches in the text\n",
        "    matches = re.findall(pattern, text)\n",
        "\n",
        "    # Filter out matches that don't conform to the license plate number format\n",
        "    valid_matches = [(letters, digits) for letters, digits in matches if len(letters) > 0 and len(digits) > 0]\n",
        "\n",
        "    # Format valid matches with a space between letters and digits\n",
        "    if valid_matches:\n",
        "        return ' '.join(valid_matches[0])\n",
        "    else:\n",
        "        return ''\n",
        "\n",
        "df['Plate Number'] = df['Plate Number'].apply(extract_license_plate)"
      ],
      "metadata": {
        "id": "jpTzmrNfzm7y"
      },
      "execution_count": null,
      "outputs": []
    },
    {
      "cell_type": "code",
      "source": [
        "df.to_excel('penalty_data.xlsx', index=False)"
      ],
      "metadata": {
        "id": "VnjYsahGoB3Y"
      },
      "execution_count": null,
      "outputs": []
    }
  ]
}